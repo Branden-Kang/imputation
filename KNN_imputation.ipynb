{
  "nbformat": 4,
  "nbformat_minor": 0,
  "metadata": {
    "colab": {
      "provenance": [],
      "authorship_tag": "ABX9TyM5C7MZxLxWqOa/0ZZPUWio"
    },
    "kernelspec": {
      "name": "python3",
      "display_name": "Python 3"
    },
    "language_info": {
      "name": "python"
    }
  },
  "cells": [
    {
      "cell_type": "code",
      "execution_count": 1,
      "metadata": {
        "colab": {
          "base_uri": "https://localhost:8080/"
        },
        "id": "0-KKcoSH-nAt",
        "outputId": "a10b6e9b-01ed-4bae-c902-b4a300b0af25"
      },
      "outputs": [
        {
          "output_type": "stream",
          "name": "stdout",
          "text": [
            "Original Data:\n",
            "[[0.5488135  0.71518937 0.60276338 0.54488318 0.4236548 ]\n",
            " [0.64589411 0.43758721 0.891773   0.96366276 0.38344152]\n",
            " [0.79172504 0.52889492 0.56804456 0.92559664 0.07103606]\n",
            " [0.0871293  0.0202184  0.83261985 0.77815675 0.87001215]\n",
            " [0.97861834 0.79915856 0.46147936 0.78052918 0.11827443]]\n",
            "Data with Missing Values:\n",
            "[[0.5488135  0.71518937 0.60276338 0.54488318 0.4236548 ]\n",
            " [0.64589411 0.43758721 0.891773   0.96366276 0.38344152]\n",
            " [       nan 0.52889492 0.56804456 0.92559664 0.07103606]\n",
            " [0.0871293  0.0202184  0.83261985 0.77815675        nan]\n",
            " [0.97861834 0.79915856 0.46147936 0.78052918 0.11827443]]\n",
            "Imputed Data:\n",
            "          0         1         2         3         4\n",
            "0  0.548814  0.715189  0.602763  0.544883  0.423655\n",
            "1  0.645894  0.437587  0.891773  0.963663  0.383442\n",
            "2  0.499829  0.528895  0.568045  0.925597  0.071036\n",
            "3  0.087129  0.020218  0.832620  0.778157  0.326676\n",
            "4  0.978618  0.799159  0.461479  0.780529  0.118274\n"
          ]
        }
      ],
      "source": [
        "import pandas as pd\n",
        "import numpy as np\n",
        "from sklearn.impute import KNNImputer\n",
        "\n",
        "# Hyperparameters\n",
        "input_dim = 5  # Number of features\n",
        "\n",
        "# Utility function to introduce missing values\n",
        "def introduce_missing_values(data, missing_rate=0.2):\n",
        "    data_with_missing = data.copy()\n",
        "    mask = np.random.binomial(1, 1 - missing_rate, data.shape)\n",
        "    data_with_missing[mask == 0] = np.nan\n",
        "    return data_with_missing, mask\n",
        "\n",
        "# Generate sample data\n",
        "np.random.seed(0)\n",
        "data = np.random.rand(1000, input_dim)\n",
        "data_with_missing, mask = introduce_missing_values(data, missing_rate=0.2)\n",
        "\n",
        "# Original data\n",
        "original_df = pd.DataFrame(data)\n",
        "\n",
        "# Data with missing\n",
        "df = pd.DataFrame(data_with_missing)\n",
        "\n",
        "# Initialize KNN Imputer (n_neighbors=5)\n",
        "imputer = KNNImputer(n_neighbors=5)\n",
        "\n",
        "# Perform missing value imputation\n",
        "df_imputed = pd.DataFrame(imputer.fit_transform(df), columns=df.columns)\n",
        "\n",
        "print(\"Original Data:\")\n",
        "print(data[:5])\n",
        "print(\"Data with Missing Values:\")\n",
        "print(data_with_missing[:5])\n",
        "print(\"Imputed Data:\")\n",
        "print(df_imputed[:5])"
      ]
    },
    {
      "cell_type": "code",
      "source": [
        "from sklearn.metrics import mean_squared_error\n",
        "\n",
        "# MSE calculation function\n",
        "def calculate_mse(true_values, imputed_values):\n",
        "    mse = mean_squared_error(true_values, imputed_values)\n",
        "    return mse\n",
        "\n",
        "knn_mse = calculate_mse(original_df, df_imputed)\n",
        "\n",
        "print(f\"KNN Imputer MSE: {knn_mse}\")"
      ],
      "metadata": {
        "colab": {
          "base_uri": "https://localhost:8080/"
        },
        "id": "qxc3sphlBDzJ",
        "outputId": "03ddb841-956f-4720-8a28-bbdb3f4718f8"
      },
      "execution_count": 2,
      "outputs": [
        {
          "output_type": "stream",
          "name": "stdout",
          "text": [
            "KNN Imputer MSE: 0.020072772540908383\n"
          ]
        }
      ]
    }
  ]
}