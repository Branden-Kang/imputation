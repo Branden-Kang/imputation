{
  "nbformat": 4,
  "nbformat_minor": 0,
  "metadata": {
    "colab": {
      "provenance": [],
      "authorship_tag": "ABX9TyOWA/WJlVoEaRSa6q6BbWHr"
    },
    "kernelspec": {
      "name": "python3",
      "display_name": "Python 3"
    },
    "language_info": {
      "name": "python"
    }
  },
  "cells": [
    {
      "cell_type": "markdown",
      "source": [
        "# IterativeImputer (Multivariate Regression-based Imputation)\n",
        "- IterativeImputer is a method that predicts missing values ​​based on other feature values\n",
        "- It considers each column with missing values ​​as a regression problem and iteratively predicts missing values\n",
        "- It can reflect correlations between multiple features, and can impute missing values ​​using various regression models (RandomForest, LinearRegression, etc.)\n",
        "- Since missing values ​​are imputed in an iterative manner, more accurate imputation is possible"
      ],
      "metadata": {
        "id": "HKwuKidVFeh5"
      }
    },
    {
      "cell_type": "code",
      "execution_count": 1,
      "metadata": {
        "colab": {
          "base_uri": "https://localhost:8080/"
        },
        "id": "VU-Bd2Pc_VlX",
        "outputId": "63f7044a-234b-4200-fba4-e21a55447c7b"
      },
      "outputs": [
        {
          "output_type": "stream",
          "name": "stdout",
          "text": [
            "Original Data:\n",
            "[[0.5488135  0.71518937 0.60276338 0.54488318 0.4236548 ]\n",
            " [0.64589411 0.43758721 0.891773   0.96366276 0.38344152]\n",
            " [0.79172504 0.52889492 0.56804456 0.92559664 0.07103606]\n",
            " [0.0871293  0.0202184  0.83261985 0.77815675 0.87001215]\n",
            " [0.97861834 0.79915856 0.46147936 0.78052918 0.11827443]]\n",
            "Data with Missing Values:\n",
            "[[0.5488135  0.71518937 0.60276338 0.54488318 0.4236548 ]\n",
            " [0.64589411 0.43758721 0.891773   0.96366276 0.38344152]\n",
            " [       nan 0.52889492 0.56804456 0.92559664 0.07103606]\n",
            " [0.0871293  0.0202184  0.83261985 0.77815675        nan]\n",
            " [0.97861834 0.79915856 0.46147936 0.78052918 0.11827443]]\n",
            "Imputed Data:\n",
            "          0         1         2         3         4\n",
            "0  0.548814  0.715189  0.602763  0.544883  0.423655\n",
            "1  0.645894  0.437587  0.891773  0.963663  0.383442\n",
            "2  0.510192  0.528895  0.568045  0.925597  0.071036\n",
            "3  0.087129  0.020218  0.832620  0.778157  0.510086\n",
            "4  0.978618  0.799159  0.461479  0.780529  0.118274\n"
          ]
        },
        {
          "output_type": "stream",
          "name": "stderr",
          "text": [
            "/usr/local/lib/python3.10/dist-packages/sklearn/impute/_iterative.py:825: ConvergenceWarning: [IterativeImputer] Early stopping criterion not reached.\n",
            "  warnings.warn(\n"
          ]
        }
      ],
      "source": [
        "import numpy as np\n",
        "import pandas as pd\n",
        "from sklearn.experimental import enable_iterative_imputer\n",
        "from sklearn.impute import IterativeImputer\n",
        "from sklearn.ensemble import RandomForestRegressor\n",
        "\n",
        "# Hyperparameters\n",
        "input_dim = 5  # Number of features\n",
        "\n",
        "# Utility function to introduce missing values\n",
        "def introduce_missing_values(data, missing_rate=0.2):\n",
        "    data_with_missing = data.copy()\n",
        "    mask = np.random.binomial(1, 1 - missing_rate, data.shape)\n",
        "    data_with_missing[mask == 0] = np.nan\n",
        "    return data_with_missing, mask\n",
        "\n",
        "# Generate sample data\n",
        "np.random.seed(0)\n",
        "data = np.random.rand(1000, input_dim)\n",
        "data_with_missing, mask = introduce_missing_values(data, missing_rate=0.2)\n",
        "\n",
        "# Original data\n",
        "original_df = pd.DataFrame(data)\n",
        "\n",
        "# Data with missing\n",
        "df = pd.DataFrame(data_with_missing)\n",
        "\n",
        "# Impute missing values ​​with IterativeImputer (Based on RandomForestRegressor)\n",
        "imputer = IterativeImputer(estimator=RandomForestRegressor(), max_iter=10, random_state=0)\n",
        "\n",
        "# Perform missing value imputation\n",
        "df_imputed = imputer.fit_transform(df)\n",
        "\n",
        "# Output the replaced dataframe\n",
        "df_imputed = pd.DataFrame(df_imputed, columns=df.columns)\n",
        "print(\"Original Data:\")\n",
        "print(data[:5])\n",
        "print(\"Data with Missing Values:\")\n",
        "print(data_with_missing[:5])\n",
        "print(\"Imputed Data:\")\n",
        "print(df_imputed[:5])"
      ]
    },
    {
      "cell_type": "code",
      "source": [
        "from sklearn.metrics import mean_squared_error\n",
        "\n",
        "# MSE calculation function\n",
        "def calculate_mse(true_values, imputed_values):\n",
        "    mse = mean_squared_error(true_values, imputed_values)\n",
        "    return mse\n",
        "\n",
        "knn_mse = calculate_mse(original_df, df_imputed)\n",
        "\n",
        "print(f\"IterativeImputer MSE: {knn_mse}\")"
      ],
      "metadata": {
        "colab": {
          "base_uri": "https://localhost:8080/"
        },
        "id": "GpWUip6HYov3",
        "outputId": "7f076eb0-2d0e-4dc0-b20a-1587087d8829"
      },
      "execution_count": 2,
      "outputs": [
        {
          "output_type": "stream",
          "name": "stdout",
          "text": [
            "IterativeImputer MSE: 0.01865274644098053\n"
          ]
        }
      ]
    }
  ]
}