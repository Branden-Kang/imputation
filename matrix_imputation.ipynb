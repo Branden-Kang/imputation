{
  "nbformat": 4,
  "nbformat_minor": 0,
  "metadata": {
    "colab": {
      "provenance": [],
      "authorship_tag": "ABX9TyMpM9pXzO8HDe74dDgwg2Sr"
    },
    "kernelspec": {
      "name": "python3",
      "display_name": "Python 3"
    },
    "language_info": {
      "name": "python"
    }
  },
  "cells": [
    {
      "cell_type": "markdown",
      "source": [
        "# Matrix Factorization:\n",
        "\n",
        "- It efficiently imputes large amounts of missing data by exploiting the latent structure of the data\n",
        "- It is particularly effective at imputing missing values ​​for continuous variables"
      ],
      "metadata": {
        "id": "FcClbXhDFPSv"
      }
    },
    {
      "cell_type": "code",
      "source": [
        "pip install fancyimpute"
      ],
      "metadata": {
        "colab": {
          "base_uri": "https://localhost:8080/"
        },
        "id": "qFV18SFn_rgG",
        "outputId": "35c4a8c8-a01f-4623-ee72-055ea24114d1"
      },
      "execution_count": 1,
      "outputs": [
        {
          "output_type": "stream",
          "name": "stdout",
          "text": [
            "Collecting fancyimpute\n",
            "  Downloading fancyimpute-0.7.0.tar.gz (25 kB)\n",
            "  Preparing metadata (setup.py) ... \u001b[?25l\u001b[?25hdone\n",
            "Collecting knnimpute>=0.1.0 (from fancyimpute)\n",
            "  Downloading knnimpute-0.1.0.tar.gz (8.3 kB)\n",
            "  Preparing metadata (setup.py) ... \u001b[?25l\u001b[?25hdone\n",
            "Requirement already satisfied: scikit-learn>=0.24.2 in /usr/local/lib/python3.10/dist-packages (from fancyimpute) (1.5.2)\n",
            "Requirement already satisfied: cvxpy in /usr/local/lib/python3.10/dist-packages (from fancyimpute) (1.5.3)\n",
            "Requirement already satisfied: cvxopt in /usr/local/lib/python3.10/dist-packages (from fancyimpute) (1.3.2)\n",
            "Requirement already satisfied: pytest in /usr/local/lib/python3.10/dist-packages (from fancyimpute) (7.4.4)\n",
            "Collecting nose (from fancyimpute)\n",
            "  Downloading nose-1.3.7-py3-none-any.whl.metadata (1.7 kB)\n",
            "Requirement already satisfied: six in /usr/local/lib/python3.10/dist-packages (from knnimpute>=0.1.0->fancyimpute) (1.16.0)\n",
            "Requirement already satisfied: numpy>=1.10 in /usr/local/lib/python3.10/dist-packages (from knnimpute>=0.1.0->fancyimpute) (1.26.4)\n",
            "Requirement already satisfied: scipy>=1.6.0 in /usr/local/lib/python3.10/dist-packages (from scikit-learn>=0.24.2->fancyimpute) (1.13.1)\n",
            "Requirement already satisfied: joblib>=1.2.0 in /usr/local/lib/python3.10/dist-packages (from scikit-learn>=0.24.2->fancyimpute) (1.4.2)\n",
            "Requirement already satisfied: threadpoolctl>=3.1.0 in /usr/local/lib/python3.10/dist-packages (from scikit-learn>=0.24.2->fancyimpute) (3.5.0)\n",
            "Requirement already satisfied: osqp>=0.6.2 in /usr/local/lib/python3.10/dist-packages (from cvxpy->fancyimpute) (0.6.7.post0)\n",
            "Requirement already satisfied: ecos>=2 in /usr/local/lib/python3.10/dist-packages (from cvxpy->fancyimpute) (2.0.14)\n",
            "Requirement already satisfied: clarabel>=0.5.0 in /usr/local/lib/python3.10/dist-packages (from cvxpy->fancyimpute) (0.9.0)\n",
            "Requirement already satisfied: scs>=3.2.4.post1 in /usr/local/lib/python3.10/dist-packages (from cvxpy->fancyimpute) (3.2.7)\n",
            "Requirement already satisfied: iniconfig in /usr/local/lib/python3.10/dist-packages (from pytest->fancyimpute) (2.0.0)\n",
            "Requirement already satisfied: packaging in /usr/local/lib/python3.10/dist-packages (from pytest->fancyimpute) (24.1)\n",
            "Requirement already satisfied: pluggy<2.0,>=0.12 in /usr/local/lib/python3.10/dist-packages (from pytest->fancyimpute) (1.5.0)\n",
            "Requirement already satisfied: exceptiongroup>=1.0.0rc8 in /usr/local/lib/python3.10/dist-packages (from pytest->fancyimpute) (1.2.2)\n",
            "Requirement already satisfied: tomli>=1.0.0 in /usr/local/lib/python3.10/dist-packages (from pytest->fancyimpute) (2.0.1)\n",
            "Requirement already satisfied: qdldl in /usr/local/lib/python3.10/dist-packages (from osqp>=0.6.2->cvxpy->fancyimpute) (0.1.7.post4)\n",
            "Downloading nose-1.3.7-py3-none-any.whl (154 kB)\n",
            "\u001b[2K   \u001b[90m━━━━━━━━━━━━━━━━━━━━━━━━━━━━━━━━━━━━━━━━\u001b[0m \u001b[32m154.7/154.7 kB\u001b[0m \u001b[31m4.0 MB/s\u001b[0m eta \u001b[36m0:00:00\u001b[0m\n",
            "\u001b[?25hBuilding wheels for collected packages: fancyimpute, knnimpute\n",
            "  Building wheel for fancyimpute (setup.py) ... \u001b[?25l\u001b[?25hdone\n",
            "  Created wheel for fancyimpute: filename=fancyimpute-0.7.0-py3-none-any.whl size=29880 sha256=4dc6450022136364d1036801fd450041b1f3291a210d9b6246bb5fa008f33da1\n",
            "  Stored in directory: /root/.cache/pip/wheels/7b/0c/d3/ee82d1fbdcc0858d96434af108608d01703505d453720c84ed\n",
            "  Building wheel for knnimpute (setup.py) ... \u001b[?25l\u001b[?25hdone\n",
            "  Created wheel for knnimpute: filename=knnimpute-0.1.0-py3-none-any.whl size=11330 sha256=c153077a9f1b4dbcd9bd8719872da27206e134a26a2b3fd3b52854e138f3d920\n",
            "  Stored in directory: /root/.cache/pip/wheels/46/06/a5/45a724630562413c374e29c08732411d496092408b3a7bf754\n",
            "Successfully built fancyimpute knnimpute\n",
            "Installing collected packages: nose, knnimpute, fancyimpute\n",
            "Successfully installed fancyimpute-0.7.0 knnimpute-0.1.0 nose-1.3.7\n"
          ]
        }
      ]
    },
    {
      "cell_type": "code",
      "execution_count": 2,
      "metadata": {
        "colab": {
          "base_uri": "https://localhost:8080/"
        },
        "id": "uh_5biAM_oJT",
        "outputId": "21cf85fd-34c3-4da4-cfe1-814963afda53"
      },
      "outputs": [
        {
          "output_type": "stream",
          "name": "stdout",
          "text": [
            "[SoftImpute] Max Singular Value of X_init = 30.296027\n",
            "[SoftImpute] Iter 1: observed MAE=0.016558 rank=5\n",
            "[SoftImpute] Iter 2: observed MAE=0.016610 rank=5\n",
            "[SoftImpute] Iter 3: observed MAE=0.016662 rank=5\n",
            "[SoftImpute] Iter 4: observed MAE=0.016712 rank=5\n",
            "[SoftImpute] Iter 5: observed MAE=0.016761 rank=5\n",
            "[SoftImpute] Iter 6: observed MAE=0.016808 rank=5\n",
            "[SoftImpute] Iter 7: observed MAE=0.016853 rank=5\n",
            "[SoftImpute] Iter 8: observed MAE=0.016896 rank=5\n",
            "[SoftImpute] Iter 9: observed MAE=0.016937 rank=5\n",
            "[SoftImpute] Iter 10: observed MAE=0.016976 rank=5\n",
            "[SoftImpute] Iter 11: observed MAE=0.017013 rank=5\n",
            "[SoftImpute] Iter 12: observed MAE=0.017049 rank=5\n",
            "[SoftImpute] Iter 13: observed MAE=0.017082 rank=5\n",
            "[SoftImpute] Iter 14: observed MAE=0.017114 rank=5\n",
            "[SoftImpute] Iter 15: observed MAE=0.017144 rank=5\n",
            "[SoftImpute] Iter 16: observed MAE=0.017173 rank=5\n",
            "[SoftImpute] Iter 17: observed MAE=0.017200 rank=5\n",
            "[SoftImpute] Iter 18: observed MAE=0.017225 rank=5\n",
            "[SoftImpute] Iter 19: observed MAE=0.017249 rank=5\n",
            "[SoftImpute] Iter 20: observed MAE=0.017271 rank=5\n",
            "[SoftImpute] Iter 21: observed MAE=0.017292 rank=5\n",
            "[SoftImpute] Iter 22: observed MAE=0.017311 rank=5\n",
            "[SoftImpute] Iter 23: observed MAE=0.017330 rank=5\n",
            "[SoftImpute] Iter 24: observed MAE=0.017347 rank=5\n",
            "[SoftImpute] Iter 25: observed MAE=0.017363 rank=5\n",
            "[SoftImpute] Iter 26: observed MAE=0.017378 rank=5\n",
            "[SoftImpute] Iter 27: observed MAE=0.017392 rank=5\n",
            "[SoftImpute] Iter 28: observed MAE=0.017405 rank=5\n",
            "[SoftImpute] Iter 29: observed MAE=0.017417 rank=5\n",
            "[SoftImpute] Iter 30: observed MAE=0.017429 rank=5\n",
            "[SoftImpute] Iter 31: observed MAE=0.017439 rank=5\n",
            "[SoftImpute] Iter 32: observed MAE=0.017449 rank=5\n",
            "[SoftImpute] Iter 33: observed MAE=0.017458 rank=5\n",
            "[SoftImpute] Iter 34: observed MAE=0.017467 rank=5\n",
            "[SoftImpute] Iter 35: observed MAE=0.017475 rank=5\n",
            "[SoftImpute] Iter 36: observed MAE=0.017482 rank=5\n",
            "[SoftImpute] Iter 37: observed MAE=0.017489 rank=5\n",
            "[SoftImpute] Iter 38: observed MAE=0.017495 rank=5\n",
            "[SoftImpute] Iter 39: observed MAE=0.017501 rank=5\n",
            "[SoftImpute] Iter 40: observed MAE=0.017506 rank=5\n",
            "[SoftImpute] Iter 41: observed MAE=0.017511 rank=5\n",
            "[SoftImpute] Iter 42: observed MAE=0.017516 rank=5\n",
            "[SoftImpute] Iter 43: observed MAE=0.017520 rank=5\n",
            "[SoftImpute] Iter 44: observed MAE=0.017524 rank=5\n",
            "[SoftImpute] Iter 45: observed MAE=0.017528 rank=5\n",
            "[SoftImpute] Iter 46: observed MAE=0.017531 rank=5\n",
            "[SoftImpute] Iter 47: observed MAE=0.017535 rank=5\n",
            "[SoftImpute] Iter 48: observed MAE=0.017537 rank=5\n",
            "[SoftImpute] Iter 49: observed MAE=0.017540 rank=5\n",
            "[SoftImpute] Iter 50: observed MAE=0.017543 rank=5\n",
            "[SoftImpute] Iter 51: observed MAE=0.017545 rank=5\n",
            "[SoftImpute] Iter 52: observed MAE=0.017547 rank=5\n",
            "[SoftImpute] Iter 53: observed MAE=0.017550 rank=5\n",
            "[SoftImpute] Iter 54: observed MAE=0.017552 rank=5\n",
            "[SoftImpute] Iter 55: observed MAE=0.017553 rank=5\n",
            "[SoftImpute] Iter 56: observed MAE=0.017555 rank=5\n",
            "[SoftImpute] Iter 57: observed MAE=0.017557 rank=5\n",
            "[SoftImpute] Iter 58: observed MAE=0.017558 rank=5\n",
            "[SoftImpute] Iter 59: observed MAE=0.017560 rank=5\n",
            "[SoftImpute] Iter 60: observed MAE=0.017561 rank=5\n",
            "[SoftImpute] Iter 61: observed MAE=0.017562 rank=5\n",
            "[SoftImpute] Iter 62: observed MAE=0.017563 rank=5\n",
            "[SoftImpute] Iter 63: observed MAE=0.017564 rank=5\n",
            "[SoftImpute] Iter 64: observed MAE=0.017565 rank=5\n",
            "[SoftImpute] Iter 65: observed MAE=0.017566 rank=5\n",
            "[SoftImpute] Iter 66: observed MAE=0.017567 rank=5\n",
            "[SoftImpute] Iter 67: observed MAE=0.017568 rank=5\n",
            "[SoftImpute] Iter 68: observed MAE=0.017569 rank=5\n",
            "[SoftImpute] Iter 69: observed MAE=0.017570 rank=5\n",
            "[SoftImpute] Iter 70: observed MAE=0.017570 rank=5\n",
            "[SoftImpute] Iter 71: observed MAE=0.017571 rank=5\n",
            "[SoftImpute] Iter 72: observed MAE=0.017571 rank=5\n",
            "[SoftImpute] Iter 73: observed MAE=0.017572 rank=5\n",
            "[SoftImpute] Iter 74: observed MAE=0.017572 rank=5\n",
            "[SoftImpute] Iter 75: observed MAE=0.017573 rank=5\n",
            "[SoftImpute] Iter 76: observed MAE=0.017573 rank=5\n",
            "[SoftImpute] Iter 77: observed MAE=0.017574 rank=5\n",
            "[SoftImpute] Iter 78: observed MAE=0.017574 rank=5\n",
            "[SoftImpute] Iter 79: observed MAE=0.017575 rank=5\n",
            "[SoftImpute] Iter 80: observed MAE=0.017575 rank=5\n",
            "[SoftImpute] Iter 81: observed MAE=0.017575 rank=5\n",
            "[SoftImpute] Iter 82: observed MAE=0.017576 rank=5\n",
            "[SoftImpute] Iter 83: observed MAE=0.017576 rank=5\n",
            "[SoftImpute] Iter 84: observed MAE=0.017576 rank=5\n",
            "[SoftImpute] Iter 85: observed MAE=0.017576 rank=5\n",
            "[SoftImpute] Iter 86: observed MAE=0.017577 rank=5\n",
            "[SoftImpute] Iter 87: observed MAE=0.017577 rank=5\n",
            "[SoftImpute] Iter 88: observed MAE=0.017577 rank=5\n",
            "[SoftImpute] Stopped after iteration 88 for lambda=0.605921\n",
            "Original Data:\n",
            "[[0.5488135  0.71518937 0.60276338 0.54488318 0.4236548 ]\n",
            " [0.64589411 0.43758721 0.891773   0.96366276 0.38344152]\n",
            " [0.79172504 0.52889492 0.56804456 0.92559664 0.07103606]\n",
            " [0.0871293  0.0202184  0.83261985 0.77815675 0.87001215]\n",
            " [0.97861834 0.79915856 0.46147936 0.78052918 0.11827443]]\n",
            "Data with Missing Values:\n",
            "[[0.5488135  0.71518937 0.60276338 0.54488318 0.4236548 ]\n",
            " [0.64589411 0.43758721 0.891773   0.96366276 0.38344152]\n",
            " [       nan 0.52889492 0.56804456 0.92559664 0.07103606]\n",
            " [0.0871293  0.0202184  0.83261985 0.77815675        nan]\n",
            " [0.97861834 0.79915856 0.46147936 0.78052918 0.11827443]]\n",
            "Imputed Data:\n",
            "          0         1         2         3         4\n",
            "0  0.548814  0.715189  0.602763  0.544883  0.423655\n",
            "1  0.645894  0.437587  0.891773  0.963663  0.383442\n",
            "2  0.378351  0.528895  0.568045  0.925597  0.071036\n",
            "3  0.087129  0.020218  0.832620  0.778157  0.303536\n",
            "4  0.978618  0.799159  0.461479  0.780529  0.118274\n"
          ]
        }
      ],
      "source": [
        "import numpy as np\n",
        "import pandas as pd\n",
        "from fancyimpute import SoftImpute\n",
        "\n",
        "# Hyperparameters\n",
        "input_dim = 5  # Number of features\n",
        "\n",
        "# Utility function to introduce missing values\n",
        "def introduce_missing_values(data, missing_rate=0.2):\n",
        "    data_with_missing = data.copy()\n",
        "    mask = np.random.binomial(1, 1 - missing_rate, data.shape)\n",
        "    data_with_missing[mask == 0] = np.nan\n",
        "    return data_with_missing, mask\n",
        "\n",
        "# Generate sample data\n",
        "np.random.seed(0)\n",
        "data = np.random.rand(1000, input_dim)\n",
        "data_with_missing, mask = introduce_missing_values(data, missing_rate=0.2)\n",
        "\n",
        "# Original data\n",
        "original_df = pd.DataFrame(data)\n",
        "\n",
        "# Data with missing\n",
        "df = pd.DataFrame(data_with_missing)\n",
        "\n",
        "# Replace missing values ​​with Soft Impute\n",
        "imputer = SoftImpute()\n",
        "\n",
        "# Perform missing value imputation\n",
        "df_imputed = imputer.fit_transform(df)\n",
        "\n",
        "# Output the replaced dataframe\n",
        "df_imputed = pd.DataFrame(df_imputed, columns=df.columns)\n",
        "print(\"Original Data:\")\n",
        "print(data[:5])\n",
        "print(\"Data with Missing Values:\")\n",
        "print(data_with_missing[:5])\n",
        "print(\"Imputed Data:\")\n",
        "print(df_imputed[:5])"
      ]
    },
    {
      "cell_type": "code",
      "source": [
        "from sklearn.metrics import mean_squared_error\n",
        "\n",
        "# MSE calculation function\n",
        "def calculate_mse(true_values, imputed_values):\n",
        "    mse = mean_squared_error(true_values, imputed_values)\n",
        "    return mse\n",
        "\n",
        "softimpute_mse = calculate_mse(original_df, df_imputed)\n",
        "\n",
        "print(f\"SoftImpute MSE: {softimpute_mse}\")"
      ],
      "metadata": {
        "colab": {
          "base_uri": "https://localhost:8080/"
        },
        "id": "y3yd82pZZvlO",
        "outputId": "32a8c914-b8c5-4488-d8d7-e1a540039b78"
      },
      "execution_count": 3,
      "outputs": [
        {
          "output_type": "stream",
          "name": "stdout",
          "text": [
            "SoftImpute MSE: 0.025185071086018567\n"
          ]
        }
      ]
    }
  ]
}